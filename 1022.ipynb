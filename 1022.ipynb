{
 "cells": [
  {
   "cell_type": "code",
   "execution_count": 31,
   "id": "1cf32581-e2c4-499e-a886-0fff47714de8",
   "metadata": {},
   "outputs": [
    {
     "data": {
      "text/plain": [
       "[{'a': 17, 'b': 123, 'c': 10},\n",
       " {'a': 27, 'b': 223, 'c': 20},\n",
       " {'a': 37, 'b': 323, 'c': 30},\n",
       " {'a': 47, 'b': 423, 'c': 40}]"
      ]
     },
     "execution_count": 31,
     "metadata": {},
     "output_type": "execute_result"
    }
   ],
   "source": [
    "listOfDictionary =[\n",
    "    {\"a\":17,\"b\":123, \"c\":10},\n",
    "    {\"a\":27,\"b\":223, \"c\":20},\n",
    "    {\"a\":37,\"b\":323, \"c\":30},\n",
    "    {\"a\":47,\"b\":423, \"c\":40},\n",
    "]\n",
    "listOfDictionary"
   ]
  },
  {
   "cell_type": "code",
   "execution_count": 12,
   "id": "b528e304-7569-4714-a889-43da00ebddc5",
   "metadata": {},
   "outputs": [],
   "source": [
    "def f(v, k):\n",
    "    return v[k]"
   ]
  },
  {
   "cell_type": "code",
   "execution_count": 9,
   "id": "6cd4b3c2-61a1-4a61-8e09-6d34b9775232",
   "metadata": {},
   "outputs": [],
   "source": [
    "def f_b(v):\n",
    "    return v['b']"
   ]
  },
  {
   "cell_type": "code",
   "execution_count": 23,
   "id": "6515e6af-37ad-4462-a916-cdd6892ae137",
   "metadata": {},
   "outputs": [
    {
     "data": {
      "text/plain": [
       "{'a': 128, 'b': 1092, 'c': 100}"
      ]
     },
     "execution_count": 23,
     "metadata": {},
     "output_type": "execute_result"
    }
   ],
   "source": [
    "a_sum=0\n",
    "b_sum=0\n",
    "c_sum=0\n",
    "sora={}\n",
    "for i in listOfDictionary:\n",
    "    a_sum += f(i, 'a')\n",
    "    b_sum += f(i, 'b')\n",
    "    c_sum += f(i, 'c')\n",
    "sora['a']=a_sum\n",
    "sora['b']=b_sum\n",
    "sora['c']=c_sum\n",
    "sora"
   ]
  },
  {
   "cell_type": "code",
   "execution_count": 26,
   "id": "5dff803d-376b-46a7-82f1-3e039df9f69b",
   "metadata": {},
   "outputs": [],
   "source": [
    "g = lambda x,y: x[y]"
   ]
  },
  {
   "cell_type": "code",
   "execution_count": 27,
   "id": "63ada09d-af6a-4b2a-9fe5-d83d55a96da3",
   "metadata": {
    "scrolled": true
   },
   "outputs": [
    {
     "data": {
      "text/plain": [
       "{'a': 128, 'b': 1092, 'c': 100}"
      ]
     },
     "execution_count": 27,
     "metadata": {},
     "output_type": "execute_result"
    }
   ],
   "source": [
    "sora = {'a': 0, 'b': 0, 'c': 0}\n",
    "for i in listOfDictionary:\n",
    "    for k in sora:\n",
    "        sora[k] += g(i, k)\n",
    "sora"
   ]
  },
  {
   "cell_type": "code",
   "execution_count": 36,
   "id": "a385c2b2-d7de-44b1-90ce-3e021fa61465",
   "metadata": {},
   "outputs": [
    {
     "name": "stdout",
     "output_type": "stream",
     "text": [
      "17\n",
      "27\n",
      "37\n",
      "47\n",
      "123\n",
      "223\n",
      "323\n",
      "423\n",
      "10\n",
      "20\n",
      "30\n",
      "40\n"
     ]
    }
   ],
   "source": [
    "# 같은 출력 (키 a들 → b들 → c들)\n",
    "for v in (d[k] for k in ('a','b','c') for d in listOfDictionary):\n",
    "    print(v)"
   ]
  },
  {
   "cell_type": "code",
   "execution_count": 29,
   "id": "f737bdd6-5a1d-4f47-aa09-cca4db62b38f",
   "metadata": {},
   "outputs": [
    {
     "name": "stdout",
     "output_type": "stream",
     "text": [
      "{'a': 128, 'b': 1092, 'c': 100}\n"
     ]
    }
   ],
   "source": [
    "sora = {\n",
    "    k: sum(map(lambda d: d[k], listOfDictionary))\n",
    "    for k in ('a', 'b', 'c')\n",
    "}\n",
    "print(sora)"
   ]
  },
  {
   "cell_type": "code",
   "execution_count": 39,
   "id": "a353ea60-1a13-4384-a59a-2391ab676e0c",
   "metadata": {
    "scrolled": true
   },
   "outputs": [
    {
     "data": {
      "text/plain": [
       "[{'a': 17, 'b': 123, 'c': 10},\n",
       " {'a': 27, 'b': 223, 'c': 20},\n",
       " {'a': 37, 'b': 323, 'c': 30},\n",
       " {'a': 47, 'b': 423, 'c': 40}]"
      ]
     },
     "execution_count": 39,
     "metadata": {},
     "output_type": "execute_result"
    }
   ],
   "source": [
    "listOfDictionary2 =[\n",
    "    {\"a\":17,\"b\":123, \"c\":10},\n",
    "    {\"a\":27,\"b\":223, \"c\":20},\n",
    "    {\"a\":37,\"b\":323, \"c\":30},\n",
    "    {\"a\":47,\"b\":423, \"c\":40},\n",
    "]\n",
    "listOfDictionary2\n",
    "# {\"a1\":17+123+10, \"a2\":27+223+20}"
   ]
  },
  {
   "cell_type": "code",
   "execution_count": 52,
   "id": "9df9e36f-5ab9-496e-80fd-8d5be74ed5ff",
   "metadata": {},
   "outputs": [
    {
     "data": {
      "text/plain": [
       "{'a1': 510}"
      ]
     },
     "execution_count": 52,
     "metadata": {},
     "output_type": "execute_result"
    }
   ],
   "source": [
    "a1sum = 0\n",
    "a2sum = 0\n",
    "a3sum = 0\n",
    "s4sum = 0\n",
    "answer = {}\n",
    "for i in listOfDictionary2:\n",
    "    a1sum = i['a']+i['b']+i['c']\n",
    "    \n",
    "answer['a1']=a1sum\n",
    "answer"
   ]
  },
  {
   "cell_type": "code",
   "execution_count": 58,
   "id": "f4ecbc57-3477-42fb-8074-32bba840808b",
   "metadata": {},
   "outputs": [
    {
     "name": "stdout",
     "output_type": "stream",
     "text": [
      "{'a1': 150, 'a2': 270, 'a3': 390, 'a4': 510}\n"
     ]
    }
   ],
   "source": [
    "result = {}\n",
    "i = 1\n",
    "\n",
    "for d in listOfDictionary2:\n",
    "    total = d[\"a\"] + d[\"b\"] + d[\"c\"]\n",
    "    key = \"a\"+str(i)\n",
    "    result[key] = total\n",
    "    i = i+1\n",
    "\n",
    "print(result)"
   ]
  },
  {
   "cell_type": "code",
   "execution_count": 60,
   "id": "95cded28-119d-42ab-b3ab-ec1d433b9f5f",
   "metadata": {},
   "outputs": [],
   "source": [
    "# result = {\"a_1\":0, \"a_2\":0, \"a_3\":0, \"a_4\":0}\n",
    "# for i in listOfDictionary2:\n",
    "#     for j in (\"a_1\",\"a_2\",\"a_3\",\"a_4\"):\n",
    "#         for k in (\"a\",\"b\",\"c\"):\n",
    "#             result[ㅓ] += i[k]\n",
    "# result"
   ]
  }
 ],
 "metadata": {
  "kernelspec": {
   "display_name": "Python [conda env:base] *",
   "language": "python",
   "name": "conda-base-py"
  },
  "language_info": {
   "codemirror_mode": {
    "name": "ipython",
    "version": 3
   },
   "file_extension": ".py",
   "mimetype": "text/x-python",
   "name": "python",
   "nbconvert_exporter": "python",
   "pygments_lexer": "ipython3",
   "version": "3.13.5"
  }
 },
 "nbformat": 4,
 "nbformat_minor": 5
}
