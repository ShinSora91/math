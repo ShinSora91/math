{
 "cells": [
  {
   "cell_type": "markdown",
   "id": "027fffd3-34cb-4345-ac22-cd84f7e03c3b",
   "metadata": {},
   "source": [
    "'C:\\Users\\Administrator\\sora\\math'"
   ]
  },
  {
   "cell_type": "code",
   "execution_count": 7,
   "id": "44afc57c-953e-41d5-800e-86c424311862",
   "metadata": {},
   "outputs": [
    {
     "name": "stdout",
     "output_type": "stream",
     "text": [
      "The autoreload extension is already loaded. To reload it, use:\n",
      "  %reload_ext autoreload\n"
     ]
    }
   ],
   "source": [
    "%load_ext autoreload\n",
    "%autoreload 2"
   ]
  },
  {
   "cell_type": "code",
   "execution_count": 9,
   "id": "b0979b01-e166-4365-837a-b99ae37a7ccb",
   "metadata": {},
   "outputs": [
    {
     "name": "stdout",
     "output_type": "stream",
     "text": [
      "Animal(name=바둑이), Dog(breed=골든리트리버) => Woof!\n",
      "Animal(name=나비) => Meow!\n"
     ]
    }
   ],
   "source": [
    "# demo.py\n",
    "from animals import Animal, Dog, Cat\n",
    "\n",
    "pets: list[Animal] = [\n",
    "    Dog(\"바둑이\", breed=\"골든리트리버\"),\n",
    "    Cat(\"나비\"),\n",
    "]\n",
    "\n",
    "for p in pets:\n",
    "    print(p.info(), \"=>\", p.speak())"
   ]
  },
  {
   "cell_type": "code",
<<<<<<< Updated upstream
   "execution_count": 14,
=======
   "execution_count": 17,
>>>>>>> Stashed changes
   "id": "0b16fb97-af63-46b8-a479-64d7adb2c843",
   "metadata": {},
   "outputs": [],
   "source": [
    "def sora(a) -> str:\n",
    "    \"\"\"\n",
<<<<<<< Updated upstream
    "        이것은 소라 함수, 저\n",
    "    \"\"\"\n",
    "    return \"소랑\"+str(4)"
=======
    "        이것은 소라 함수, 정수 하나 받아서 소라랑 문자열 결합\n",
    "    \"\"\"\n",
    "    return \"소라\"+str(a)"
>>>>>>> Stashed changes
   ]
  },
  {
   "cell_type": "code",
<<<<<<< Updated upstream
   "execution_count": 16,
=======
   "execution_count": 21,
>>>>>>> Stashed changes
   "id": "2f34c019-b21f-4e1a-af51-094677e62601",
   "metadata": {},
   "outputs": [
    {
     "name": "stdout",
     "output_type": "stream",
     "text": [
<<<<<<< Updated upstream
      "Help on built-in function sum in module builtins:\n",
      "\n",
      "sum(iterable, /, start=0)\n",
      "    Return the sum of a 'start' value (default: 0) plus an iterable of numbers\n",
      "\n",
      "    When the iterable is empty, return the start value.\n",
      "    This function is intended specifically for use with numeric values and may\n",
      "    reject non-numeric types.\n",
=======
      "Help on function sora in module __main__:\n",
      "\n",
      "sora(a) -> str\n",
      "    이것은 소라 함수, 정수 하나 받아서 소라랑 문자열 결합\n",
>>>>>>> Stashed changes
      "\n"
     ]
    }
   ],
   "source": [
<<<<<<< Updated upstream
    "help(sum)"
=======
    "help(sora)"
>>>>>>> Stashed changes
   ]
  },
  {
   "cell_type": "code",
<<<<<<< Updated upstream
   "execution_count": 13,
=======
   "execution_count": 19,
>>>>>>> Stashed changes
   "id": "813bc5af-bc11-436a-a9e4-bc4a933ca2ee",
   "metadata": {},
   "outputs": [
    {
     "data": {
      "text/plain": [
<<<<<<< Updated upstream
       "'소랑4'"
      ]
     },
     "execution_count": 13,
=======
       "'소라10'"
      ]
     },
     "execution_count": 19,
>>>>>>> Stashed changes
     "metadata": {},
     "output_type": "execute_result"
    }
   ],
   "source": [
<<<<<<< Updated upstream
    "sora(7)"
=======
    "sora(10)"
>>>>>>> Stashed changes
   ]
  }
 ],
 "metadata": {
  "kernelspec": {
   "display_name": "",
   "name": ""
  },
  "language_info": {
   "name": ""
  }
 },
 "nbformat": 4,
 "nbformat_minor": 5
}
