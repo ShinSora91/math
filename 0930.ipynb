{
 "cells": [
  {
   "cell_type": "markdown",
   "id": "cb47b8c7-6ed0-4913-821d-ca0ec14dab45",
   "metadata": {},
   "source": [
    "<img src=\"images/0930/1.JPG\">"
   ]
  },
  {
   "cell_type": "code",
   "execution_count": null,
   "id": "fc3410fb-83af-4b78-b8e0-6fae0dc51e9d",
   "metadata": {},
   "outputs": [],
   "source": [
    "import cv2\n",
    "import numpy as np\n",
    "\n",
    "# 흰 배경 이미지\n",
    "img = np.ones((400, 400, 3), dtype=np.uint8) * 20\n",
    "img\n",
    "\n",
    "# 원본 사각형 좌표 (x, y)\n",
    "rect = np.array([[100, 50],\n",
    "                 [200, 50],\n",
    "                 [200, 150],\n",
    "                 [100, 150]], dtype=np.int32)\n",
    "# 노란색 (BGR)\n",
    "yellow = (0, 255, 255)\n",
    "\n",
    "# 회전 각도 (라디안)\n",
    "theta = np.deg2rad(-30)\n",
    "\n",
    "# cos, sin\n",
    "cos_t, sin_t = np.cos(theta), np.sin(theta)\n",
    "\n",
    "# 원점 기준 회전 행렬 (translation 없음)\n",
    "M = np.array([\n",
    "    [cos_t, -sin_t, 0],\n",
    "    [sin_t,  cos_t, 0]\n",
    "])\n",
    "\n",
    "\n",
    "# 사각형 좌표를 동차좌표(homogeneous)로 변환\n",
    "ones = np.ones((rect.shape[0], 1))\n",
    "rect_hom = np.hstack([rect, ones])\n",
    "\n",
    "# 회전 적용\n",
    "rotated_rect = (M @ rect_hom.T).T.astype(int)\n",
    "\n",
    "# int로 변환 (OpenCV는 정수 좌표 필요)\n",
    "rotated_rect = rotated_rect.astype(int)\n",
    "\n",
    "# 꽉 찬 노란색 사각형 그리기\n",
    "cv2.fillPoly(img, [rotated_rect], color=yellow)\n",
    "\n",
    "# 출력\n",
    "cv2.imshow(\"Filled Yellow Rotated Rectangle\", img)\n",
    "cv2.waitKey(0)\n",
    "cv2.destroyAllWindows()"
   ]
  },
  {
   "cell_type": "code",
   "execution_count": null,
   "id": "99dc1640-05d7-41de-ae8c-83c9ef9bf990",
   "metadata": {},
   "outputs": [],
   "source": [
    "rect.shape"
   ]
  },
  {
   "cell_type": "code",
   "execution_count": null,
   "id": "30effd5e-ea38-49dd-a950-f8d4442e618a",
   "metadata": {
    "scrolled": true
   },
   "outputs": [],
   "source": [
    "# 사각형 좌표를 동차좌표(homogeneous)로 변환\n",
    "ones = np.ones((rect.shape[0], 1))\n",
    "ones"
   ]
  },
  {
   "cell_type": "code",
   "execution_count": null,
   "id": "a825fe13-36a6-4fea-a9a5-2e27729f448d",
   "metadata": {},
   "outputs": [],
   "source": [
    "rect_hom = np.hstack([rect, ones])\n",
    "# 회전 적용\n",
    "rotated_rect = (M @ rect_hom.T).T.astype(int)\n",
    "\n",
    "# 회전된 사각형 (빨간색)\n",
    "cv2.polylines(img, [rotated_rect], isClosed=True, color=(0, 0, 255), thickness=2)\n",
    "\n",
    "# 결과 보기\n",
    "cv2.imshow(\"Rotated Rectangle around Origin\", img)\n",
    "cv2.waitKey(0)\n",
    "cv2.destroyAllWindows()"
   ]
  },
  {
   "cell_type": "code",
   "execution_count": null,
   "id": "84863687-874d-4447-ad8a-94c31e4f4399",
   "metadata": {},
   "outputs": [],
   "source": [
    "import cv2\n",
    "import numpy as np\n",
    "import math\n",
    "\n",
    "# 이미지 캔버스 생성\n",
    "img = np.zeros((400, 400, 3), dtype=np.uint8)\n",
    "\n",
    "# 노란색 (BGR)\n",
    "yellow = (0, 255, 255)\n",
    "\n",
    "# 사각형 꼭짓점 좌표 (왼쪽 위부터 시계방향)\n",
    "rect = np.array([\n",
    "    [100, 150],\n",
    "    [200, 150],\n",
    "    [200, 250],\n",
    "    [100, 250]\n",
    "], dtype=np.float32)\n",
    "\n",
    "# 회전 각도 (라디안 단위)\n",
    "theta = math.radians(45)\n",
    "\n",
    "# 회전 행렬 (원점 기준)\n",
    "R = np.array([\n",
    "    [math.cos(theta), -math.sin(theta)],\n",
    "    [math.sin(theta),  math.cos(theta)]\n",
    "])\n",
    "\n",
    "# 각 꼭짓점 회전 적용\n",
    "rotated_rect = np.dot(rect, R.T)\n",
    "\n",
    "# 좌표를 화면에 보이게 평행이동 (예: +150, +100)\n",
    "rotated_rect = rotated_rect + np.array([150, 100])\n",
    "\n",
    "# int로 변환 (OpenCV는 정수 좌표 필요)\n",
    "rotated_rect = rotated_rect.astype(int)\n",
    "\n",
    "# 꽉 찬 노란색 사각형 그리기\n",
    "cv2.fillPoly(img, [rotated_rect], color=yellow)\n",
    "\n",
    "# 출력\n",
    "cv2.imshow(\"Filled Yellow Rotated Rectangle\", img)\n",
    "cv2.waitKey(0)\n",
    "cv2.destroyAllWindows()"
   ]
  },
  {
   "cell_type": "code",
   "execution_count": 73,
   "id": "a43412cc-3a47-4101-a180-b0b7ca169bbf",
   "metadata": {},
   "outputs": [],
   "source": [
    "import numpy as np"
   ]
  },
  {
   "cell_type": "code",
   "execution_count": 78,
   "id": "c1042835-93bb-4d50-a88e-cb43c334393d",
   "metadata": {},
   "outputs": [
    {
     "data": {
      "text/plain": [
       "0"
      ]
     },
     "execution_count": 78,
     "metadata": {},
     "output_type": "execute_result"
    }
   ],
   "source": [
    "deg = [0,30,45,60,90]\n",
    "value = [1, np.sqrt(3)/2, 1/np.sqrt(2), 1/2, 0]\n",
    "result = [np.cos(np.deg2rad(i)) - j for (i,j) in zip(deg, value)]\n",
    "cnt=0\n",
    "for i in result:\n",
    "    if(i>0.0001): cnt+=1\n",
    "cnt"
   ]
  },
  {
   "cell_type": "code",
   "execution_count": 84,
   "id": "c7fedaf9-cf11-4fc4-9a6c-6a764ba4a25b",
   "metadata": {},
   "outputs": [
    {
     "data": {
      "text/plain": [
       "0"
      ]
     },
     "execution_count": 84,
     "metadata": {},
     "output_type": "execute_result"
    }
   ],
   "source": [
    "deg = [0,30,45,60,90]\n",
    "value = [0, 1/2, 1/np.sqrt(2), np.sqrt(3)/2, 1]\n",
    "result = [np.sin(np.deg2rad(i)) - j for (i,j) in zip(deg, value)]\n",
    "cnt=0\n",
    "for i in result:\n",
    "    if(i>0.0001): cnt+=1\n",
    "cnt"
   ]
  },
  {
   "cell_type": "code",
   "execution_count": 89,
   "id": "f1b86fbf-6470-4083-8f5d-a8f9dc385f73",
   "metadata": {},
   "outputs": [
    {
     "data": {
      "text/plain": [
       "np.float64(59.99999999999999)"
      ]
     },
     "execution_count": 89,
     "metadata": {},
     "output_type": "execute_result"
    }
   ],
   "source": [
    "v = np.cos(np.deg2rad(60))\n",
    "np.rad2deg(np.arccos(v))"
   ]
  },
  {
   "cell_type": "code",
   "execution_count": 93,
   "id": "7f9c9ece-2e45-46bc-bad8-49c6605c24f7",
   "metadata": {},
   "outputs": [
    {
     "data": {
      "text/plain": [
       "[<matplotlib.lines.Line2D at 0x1d604025e50>]"
      ]
     },
     "execution_count": 93,
     "metadata": {},
     "output_type": "execute_result"
    },
    {
     "data": {
      "image/png": "[encoded data removed]",
      "text/plain": [
       "<Figure size 640x480 with 1 Axes>"
      ]
     },
     "metadata": {},
     "output_type": "display_data"
    }
   ],
   "source": [
    "x = np.array([i for i in range(-90,90)])\n",
    "y = np.cos(np.deg2rad(x))\n",
    "\n",
    "import matplotlib.pyplot as plt\n",
    "plt.plot(x,y)"
   ]
  },
  {
   "cell_type": "code",
   "execution_count": 85,
   "id": "b390cf21-8ef5-4a43-8c18-ecf599c36f05",
   "metadata": {},
   "outputs": [
    {
     "name": "stdout",
     "output_type": "stream",
     "text": [
      "(1, 3, 10)\n",
      "(2, 4, 20)\n",
      "(3, 5, 30)\n",
      "(4, 6, 40)\n",
      "(5, 7, 50)\n"
     ]
    }
   ],
   "source": [
    "a=[1,2,3,4,5]\n",
    "b=[3,4,5,6,7]\n",
    "c=[10,20,30,40,50]\n",
    "for i in zip(a,b,c):\n",
    "    print(i)"
   ]
  },
  {
   "cell_type": "code",
   "execution_count": 71,
   "id": "a0bc8ae5-1cd3-45f2-9a76-c2dcf9311bfd",
   "metadata": {},
   "outputs": [
    {
     "data": {
      "text/plain": [
       "np.float64(1.1102230246251565e-16)"
      ]
     },
     "execution_count": 71,
     "metadata": {},
     "output_type": "execute_result"
    }
   ],
   "source": [
    "np.cos(np.deg2rad(45)) - 1/np.sqrt(2)"
   ]
  },
  {
   "cell_type": "code",
   "execution_count": 79,
   "id": "88479182-4d82-458f-9a5f-1deb66b4162b",
   "metadata": {},
   "outputs": [
    {
     "data": {
      "text/plain": [
       "np.float64(1.1102230246251565e-16)"
      ]
     },
     "execution_count": 79,
     "metadata": {},
     "output_type": "execute_result"
    }
   ],
   "source": [
    "np.cos(np.deg2rad(60)) - 1/2"
   ]
  },
  {
   "cell_type": "code",
   "execution_count": 81,
   "id": "bfd847ba-7ced-4bc6-927a-b7d4d5f1dddb",
   "metadata": {},
   "outputs": [
    {
     "data": {
      "text/plain": [
       "np.float64(6.123233995736766e-17)"
      ]
     },
     "execution_count": 81,
     "metadata": {},
     "output_type": "execute_result"
    }
   ],
   "source": [
    "np.cos(np.deg2rad(90)) - 0"
   ]
  },
  {
   "cell_type": "code",
   "execution_count": 82,
   "id": "8617b279-dbce-463b-bcff-9b382135ed0a",
   "metadata": {},
   "outputs": [
    {
     "data": {
      "text/plain": [
       "np.float64(0.0)"
      ]
     },
     "execution_count": 82,
     "metadata": {},
     "output_type": "execute_result"
    }
   ],
   "source": [
    "np.cos(np.deg2rad(0)) - 1"
   ]
  }
 ],
 "metadata": {
  "kernelspec": {
   "display_name": "Python [conda env:base] *",
   "language": "python",
   "name": "conda-base-py"
  },
  "language_info": {
   "codemirror_mode": {
    "name": "ipython",
    "version": 3
   },
   "file_extension": ".py",
   "mimetype": "text/x-python",
   "name": "python",
   "nbconvert_exporter": "python",
   "pygments_lexer": "ipython3",
   "version": "3.13.5"
  }
 },
 "nbformat": 4,
 "nbformat_minor": 5
}
