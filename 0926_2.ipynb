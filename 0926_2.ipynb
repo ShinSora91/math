{
 "cells": [
  {
   "cell_type": "markdown",
   "id": "18a8baa9-a56d-4910-a25e-fc0e457e4618",
   "metadata": {},
   "source": [
    "$\n",
    "A = \\begin{pmatrix}\n",
    "1 & 2 & 3 & -1 \\\\\n",
    "-1 & 2 & 4 & 5 \\\\\n",
    "-2 & 3 & 4 & -2\n",
    "\\end{pmatrix}   \n",
    "$\n",
    "\n",
    "$\n",
    "    B = \\begin{pmatrix}\n",
    "1 & -2 \\\\\n",
    "-2 & 3 \\\\\n",
    "-1 & 4 \\\\\n",
    "-3 & 2\n",
    "\\end{pmatrix}\n",
    "$"
   ]
  },
  {
   "cell_type": "code",
   "execution_count": 7,
   "id": "d90e9a0d-5d87-43a6-85ae-4e18f99cfabb",
   "metadata": {},
   "outputs": [
    {
     "data": {
      "text/plain": [
       "[[1, 2, 3, -1], [-1, 2, 4, 5], [-2, 3, 2]]"
      ]
     },
     "execution_count": 7,
     "metadata": {},
     "output_type": "execute_result"
    }
   ],
   "source": [
    "A = [\n",
    "    [1,2,3,-1],[-1,2,4,5], [-2,3,4-2]\n",
    "]\n",
    "A"
   ]
  },
  {
   "cell_type": "code",
   "execution_count": 8,
   "id": "86a42007-2674-4180-b9aa-f4a22770b9a5",
   "metadata": {},
   "outputs": [
    {
     "data": {
      "text/plain": [
       "[[1, -2], [-2, 3], [-1, 4], [-3, 2]]"
      ]
     },
     "execution_count": 8,
     "metadata": {},
     "output_type": "execute_result"
    }
   ],
   "source": [
    "B = [\n",
    "    [1,-2],[-2,3], [-1,4], [-3,2]\n",
    "]\n",
    "B"
   ]
  },
  {
   "cell_type": "code",
   "execution_count": 4,
   "id": "370481d9-55d8-48ac-a1ef-fc178a7d0a9f",
   "metadata": {},
   "outputs": [
    {
     "data": {
      "text/plain": [
       "-3"
      ]
     },
     "execution_count": 4,
     "metadata": {},
     "output_type": "execute_result"
    }
   ],
   "source": [
    "A[0][0] * B[0][0] + A[0][1] * B[1][0] + A[0][2] * B[2][0] + A[0][3] * B[3][0]"
   ]
  },
  {
   "cell_type": "code",
   "execution_count": 13,
   "id": "6a7a331d-0d0f-48f2-b9bd-83df8ac81ec7",
   "metadata": {
    "scrolled": true
   },
   "outputs": [
    {
     "data": {
      "text/plain": [
       "14"
      ]
     },
     "execution_count": 13,
     "metadata": {},
     "output_type": "execute_result"
    }
   ],
   "source": [
    "A[0][0] * B[0][1] + A[0][1] * B[1][1] + A[0][2] * B[2][1] + A[0][3] * B[3][1]"
   ]
  },
  {
   "cell_type": "code",
   "execution_count": 15,
   "id": "3b73afd9-e832-4919-aef5-0a705363eb55",
   "metadata": {},
   "outputs": [
    {
     "data": {
      "text/plain": [
       "np.int64(-3)"
      ]
     },
     "execution_count": 15,
     "metadata": {},
     "output_type": "execute_result"
    }
   ],
   "source": [
    "B_T_0 = B_Mat.T\n",
    "np.dot(A_Mat[0],B_T_0[0])"
   ]
  },
  {
   "cell_type": "code",
   "execution_count": 16,
   "id": "e519556c-f14d-48b7-9018-5172579e7244",
   "metadata": {},
   "outputs": [
    {
     "data": {
      "text/plain": [
       "np.int64(14)"
      ]
     },
     "execution_count": 16,
     "metadata": {},
     "output_type": "execute_result"
    }
   ],
   "source": [
    "B_T_0 = B_Mat.T\n",
    "np.dot(A_Mat[0],B_T_0[1])"
   ]
  },
  {
   "cell_type": "code",
   "execution_count": 17,
   "id": "5fcd7c25-da03-4639-8076-1083d5689a03",
   "metadata": {
    "scrolled": true
   },
   "outputs": [
    {
     "data": {
      "text/plain": [
       "np.int64(-24)"
      ]
     },
     "execution_count": 17,
     "metadata": {},
     "output_type": "execute_result"
    }
   ],
   "source": [
    "B_T_0 = B_Mat.T\n",
    "np.dot(A_Mat[1],B_T_0[0])"
   ]
  },
  {
   "cell_type": "code",
   "execution_count": 18,
   "id": "f37965c4-26b2-4f20-80a2-2c95e2593e11",
   "metadata": {
    "scrolled": true
   },
   "outputs": [
    {
     "data": {
      "text/plain": [
       "np.int64(34)"
      ]
     },
     "execution_count": 18,
     "metadata": {},
     "output_type": "execute_result"
    }
   ],
   "source": [
    "B_T_0 = B_Mat.T\n",
    "np.dot(A_Mat[1],B_T_0[1])"
   ]
  },
  {
   "cell_type": "code",
   "execution_count": 19,
   "id": "6e60aeff-92e1-4502-9758-2125831d5207",
   "metadata": {
    "scrolled": true
   },
   "outputs": [
    {
     "data": {
      "text/plain": [
       "np.int64(-6)"
      ]
     },
     "execution_count": 19,
     "metadata": {},
     "output_type": "execute_result"
    }
   ],
   "source": [
    "B_T_0 = B_Mat.T\n",
    "np.dot(A_Mat[2],B_T_0[0])"
   ]
  },
  {
   "cell_type": "code",
   "execution_count": 21,
   "id": "150fab8d-5053-40ce-98ef-d26ee58b9451",
   "metadata": {
    "scrolled": true
   },
   "outputs": [
    {
     "data": {
      "text/plain": [
       "(np.int64(-3),\n",
       " np.int64(14),\n",
       " np.int64(-24),\n",
       " np.int64(34),\n",
       " np.int64(-6),\n",
       " np.int64(25))"
      ]
     },
     "execution_count": 21,
     "metadata": {},
     "output_type": "execute_result"
    }
   ],
   "source": [
    "B_T_0 = B_Mat.T\n",
    "R_0_0 = np.dot(A_Mat[0],B_T_0[0])\n",
    "R_0_1 = np.dot(A_Mat[0],B_T_0[1])\n",
    "R_1_0 = np.dot(A_Mat[1],B_T_0[0])\n",
    "R_1_1 = np.dot(A_Mat[1],B_T_0[1])\n",
    "R_2_0 = np.dot(A_Mat[2],B_T_0[0])\n",
    "R_2_1 = np.dot(A_Mat[2],B_T_0[1])\n",
    "R_0_0, R_0_1, R_1_0, R_1_1, R_2_0, R_2_1"
   ]
  },
  {
   "cell_type": "code",
   "execution_count": 22,
   "id": "6761b943-5786-4d2d-bd70-00c4fcb8e5ca",
   "metadata": {},
   "outputs": [
    {
     "data": {
      "text/plain": [
       "array([[ -3,  14],\n",
       "       [-24,  34],\n",
       "       [ -6,  25]])"
      ]
     },
     "execution_count": 22,
     "metadata": {},
     "output_type": "execute_result"
    }
   ],
   "source": [
    "np.dot(A_Mat, B_Mat)"
   ]
  },
  {
   "cell_type": "code",
   "execution_count": 28,
   "id": "b8c276ab-14eb-4311-9887-81161fc4a510",
   "metadata": {},
   "outputs": [
    {
     "data": {
      "text/plain": [
       "[[np.int64(-3), np.int64(14)],\n",
       " [np.int64(-24), np.int64(34)],\n",
       " [np.int64(-6), np.int64(25)]]"
      ]
     },
     "execution_count": 28,
     "metadata": {},
     "output_type": "execute_result"
    }
   ],
   "source": [
    "result=[]\n",
    "for i in range(0,3):\n",
    "    inner=[]\n",
    "    for j in range(0,2):\n",
    "        inner.append(np.dot(A_Mat[i], B_T_0[j]))\n",
    "    result.append(inner)\n",
    "result"
   ]
  },
  {
   "cell_type": "code",
   "execution_count": 10,
   "id": "b8a59f10-0154-4f8c-b7a6-d9804a273e07",
   "metadata": {},
   "outputs": [
    {
     "name": "stdout",
     "output_type": "stream",
     "text": [
      "A_Mat.shape = (3, 4)\n",
      "B_Mat.shape = (4, 2)\n",
      "C = [[ -3  14]\n",
      " [-24  34]\n",
      " [ -6  25]]\n"
     ]
    }
   ],
   "source": [
    "import numpy as np\n",
    "\n",
    "# 3x4 행렬 A\n",
    "A = [\n",
    "    [1, 2, 3, -1],\n",
    "    [-1, 2, 4, 5],\n",
    "    [-2, 3, 4, -2]\n",
    "]\n",
    "\n",
    "# 4x2 행렬 B\n",
    "B = [\n",
    "    [1, -2],\n",
    "    [-2, 3],\n",
    "    [-1, 4],\n",
    "    [-3, 2]\n",
    "]\n",
    "\n",
    "# numpy 배열 변환\n",
    "A_Mat = np.array(A)\n",
    "B_Mat = np.array(B)\n",
    "\n",
    "print(\"A_Mat.shape =\", A_Mat.shape)\n",
    "print(\"B_Mat.shape =\", B_Mat.shape)\n",
    "\n",
    "# 행렬 곱\n",
    "C = A_Mat @ B_Mat\n",
    "print(\"C =\", C)"
   ]
  }
 ],
 "metadata": {
  "kernelspec": {
   "display_name": "Python [conda env:base] *",
   "language": "python",
   "name": "conda-base-py"
  },
  "language_info": {
   "codemirror_mode": {
    "name": "ipython",
    "version": 3
   },
   "file_extension": ".py",
   "mimetype": "text/x-python",
   "name": "python",
   "nbconvert_exporter": "python",
   "pygments_lexer": "ipython3",
   "version": "3.13.5"
  }
 },
 "nbformat": 4,
 "nbformat_minor": 5
}
