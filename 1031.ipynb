{
 "cells": [
  {
   "cell_type": "markdown",
   "id": "941976d5-45ac-451a-a044-8197769591b3",
   "metadata": {},
   "source": [
    "$\\int_{2}^{3} (3x^2) dx = 3^3 - 2^3 = 27-8 = 19$"
   ]
  },
  {
   "cell_type": "code",
   "execution_count": null,
   "id": "c5981eae-871b-4897-9b29-71317966adf3",
   "metadata": {},
   "outputs": [],
   "source": [
    "def f(x) : return 3*x*x"
   ]
  },
  {
   "cell_type": "code",
   "execution_count": 1,
   "id": "fbcb4ec0-200e-4a59-8ed1-eb983cf9a80a",
   "metadata": {},
   "outputs": [],
   "source": [
    "def g(x) : return 3*x"
   ]
  },
  {
   "cell_type": "code",
   "execution_count": null,
   "id": "78517085-a3f4-4008-9cf9-f925b655ff21",
   "metadata": {},
   "outputs": [],
   "source": [
    "f(2+delta)*delta + f(2+delta+delta)*delta + f(2+delta+delta+delta)*delta + f(2+delta+delta+delta+delta)*delta"
   ]
  },
  {
   "cell_type": "code",
   "execution_count": 2,
   "id": "ee8203fa-cdc3-4d76-99bf-e04b77c307a1",
   "metadata": {},
   "outputs": [],
   "source": [
    "def integral(z, end, start, N):\n",
    "    interval = end-start\n",
    "    delta = interval/N\n",
    "    sum1 = 0\n",
    "    for i in range(N):\n",
    "        sum1 += z(start+delta*(i+1))*delta\n",
    "    return sum1"
   ]
  },
  {
   "cell_type": "code",
   "execution_count": null,
   "id": "7b6777df-7597-4f3c-b9fd-4a1f9e1a90b6",
   "metadata": {},
   "outputs": [],
   "source": [
    "integral(f, 3,2,4)"
   ]
  },
  {
   "cell_type": "code",
   "execution_count": 9,
   "id": "693a74ce-284b-4a70-a30c-2ffdb34d891c",
   "metadata": {},
   "outputs": [
    {
     "data": {
      "text/plain": [
       "6.150000000000001"
      ]
     },
     "execution_count": 9,
     "metadata": {},
     "output_type": "execute_result"
    }
   ],
   "source": [
    "integral(g, 2,0,40)"
   ]
  }
 ],
 "metadata": {
  "kernelspec": {
   "display_name": "Python [conda env:base] *",
   "language": "python",
   "name": "conda-base-py"
  },
  "language_info": {
   "codemirror_mode": {
    "name": "ipython",
    "version": 3
   },
   "file_extension": ".py",
   "mimetype": "text/x-python",
   "name": "python",
   "nbconvert_exporter": "python",
   "pygments_lexer": "ipython3",
   "version": "3.13.5"
  }
 },
 "nbformat": 4,
 "nbformat_minor": 5
}
