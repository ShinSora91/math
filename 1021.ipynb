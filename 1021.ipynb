{
 "cells": [
  {
   "cell_type": "code",
   "execution_count": 1,
   "id": "15f0f960-71ef-4264-b586-9573740a906e",
   "metadata": {},
   "outputs": [],
   "source": [
    "import sympy as sp"
   ]
  },
  {
   "cell_type": "code",
   "execution_count": 17,
   "id": "205068d9-c683-48c5-8690-9db683f37f9a",
   "metadata": {},
   "outputs": [
    {
     "data": {
      "text/plain": [
       "(4*x**2*(8*x + 6)*exp(-cos(4*x**2 + 6*x + 9))*sin(4*x**2 + 6*x + 9)*cos(log(4*x**2 + 6*x + 9)) - 4*x**2*(8*x + 6)*exp(-cos(4*x**2 + 6*x + 9))*sin(log(4*x**2 + 6*x + 9))/(4*x**2 + 6*x + 9) + 4*x*y + 6*x*sin(3*x**2)*cos(cos(3*x**2)) + 6*x + 8*x*exp(-cos(4*x**2 + 6*x + 9))*cos(log(4*x**2 + 6*x + 9)),\n",
       " 2*x**2 + 6*z,\n",
       " 6*y)"
      ]
     },
     "execution_count": 17,
     "metadata": {},
     "output_type": "execute_result"
    }
   ],
   "source": [
    "x,y,z =sp.symbols('x,y,z')\n",
    "g= 4*x**2 + 6*x +9\n",
    "f= sp.exp(-sp.cos(g))*sp.cos(-sp.log(g))*4*x**2+sp.sin(-sp.cos(3*x**2))+2*(x**2)*y + 3*x**2+ 6*z*y+2\n",
    "df_dx = sp.diff(f,x), sp.diff(f,y), sp.diff(f,z)\n",
    "df_dx"
   ]
  },
  {
   "cell_type": "markdown",
   "id": "7966360e-5147-435c-8319-208cf0a1e932",
   "metadata": {},
   "source": [
    "$ \\frac{\\partial f}{\\partial x} = \\frac{\\partial}{\\partial x} \\left( e^{-\\cos(g)} \\cos(-\\log(g)) 4x^2 + \\sin(-\\cos(3x^2)) + 2x^2y + 3x^2 + 6zy + 2 \\right) $\n"
   ]
  }
 ],
 "metadata": {
  "kernelspec": {
   "display_name": "Python [conda env:base] *",
   "language": "python",
   "name": "conda-base-py"
  },
  "language_info": {
   "codemirror_mode": {
    "name": "ipython",
    "version": 3
   },
   "file_extension": ".py",
   "mimetype": "text/x-python",
   "name": "python",
   "nbconvert_exporter": "python",
   "pygments_lexer": "ipython3",
   "version": "3.13.5"
  }
 },
 "nbformat": 4,
 "nbformat_minor": 5
}
