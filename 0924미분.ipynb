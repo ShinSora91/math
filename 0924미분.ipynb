{
 "cells": [
  {
   "cell_type": "markdown",
   "id": "f226f2de-84d5-4f1a-931d-79bb5746748c",
   "metadata": {},
   "source": [
    "<img src=\"images/0924/1.PNG\"/>"
   ]
  },
  {
   "cell_type": "code",
   "execution_count": 2,
   "id": "41b1406a-662a-4392-bc50-5adc6b684638",
   "metadata": {},
   "outputs": [],
   "source": [
    "import matplotlib.pyplot as plt"
   ]
  },
  {
   "cell_type": "code",
   "execution_count": 1,
   "id": "57e2e8cb-d0f6-46ae-9e02-402555f99ba6",
   "metadata": {},
   "outputs": [
    {
     "data": {
      "text/plain": [
       "[-20, -19, -18, -17, -16]"
      ]
     },
     "execution_count": 1,
     "metadata": {},
     "output_type": "execute_result"
    }
   ],
   "source": [
    "x = range(-20,20)\n",
    "[i for i in x][:5]"
   ]
  },
  {
   "cell_type": "code",
   "execution_count": null,
   "id": "31ad45a5-995a-43a9-81da-cdc5085fe207",
   "metadata": {},
   "outputs": [],
   "source": [
    "y = [2*i for i in x]\n",
    "y[:2]"
   ]
  },
  {
   "cell_type": "code",
   "execution_count": null,
   "id": "58725132-34bb-46a8-ae3a-76960166161b",
   "metadata": {},
   "outputs": [],
   "source": [
    "y2 = [4*i+7 for i in x]\n",
    "y2[:5]"
   ]
  },
  {
   "cell_type": "code",
   "execution_count": 4,
   "id": "fce3d27d-4704-4f0f-a8e0-a853cea505f1",
   "metadata": {},
   "outputs": [
    {
     "data": {
      "text/plain": [
       "13140"
      ]
     },
     "execution_count": 4,
     "metadata": {},
     "output_type": "execute_result"
    }
   ],
   "source": [
    "g = lambda x:4*x**7 + 6*x**6 + 5*x + 3\n",
    "g(3)"
   ]
  },
  {
   "cell_type": "code",
   "execution_count": 14,
   "id": "0866d45d-dddc-4c30-8232-6ac2b664d69a",
   "metadata": {},
   "outputs": [
    {
     "data": {
      "text/plain": [
       "15"
      ]
     },
     "execution_count": 14,
     "metadata": {},
     "output_type": "execute_result"
    }
   ],
   "source": [
    "h = lambda x : 4*x+7\n",
    "h(2)"
   ]
  },
  {
   "cell_type": "code",
   "execution_count": 17,
   "id": "4a220b6d-8136-4247-bf0d-16305c96cafc",
   "metadata": {},
   "outputs": [
    {
     "data": {
      "text/plain": [
       "49"
      ]
     },
     "execution_count": 17,
     "metadata": {},
     "output_type": "execute_result"
    }
   ],
   "source": [
    "h2 = lambda x : 4*x+9+6*x\n",
    "h2(4)"
   ]
  },
  {
   "cell_type": "code",
   "execution_count": null,
   "id": "5ff17b90-dc41-4130-9e48-05c6bb937fa0",
   "metadata": {},
   "outputs": [],
   "source": [
    "f3 = lambda x:3*x**2+3"
   ]
  },
  {
   "cell_type": "code",
   "execution_count": null,
   "id": "c6498574-24d4-45f2-b7a2-ac84be1f4b7d",
   "metadata": {},
   "outputs": [],
   "source": [
    "f_ori = [f3(i) for i in x]\n",
    "y_hat = [derivative(f3,i) for i in x]\n"
   ]
  },
  {
   "cell_type": "code",
   "execution_count": 15,
   "id": "31c23016-3bed-400e-9764-8451f2175a27",
   "metadata": {},
   "outputs": [],
   "source": [
    "f_ori3 = [h(i) for i in x]\n",
    "y_hat3 = [derivative(h,i) for i in x]"
   ]
  },
  {
   "cell_type": "code",
   "execution_count": 8,
   "id": "895e5417-b57d-461a-b92a-6e694fe77d30",
   "metadata": {},
   "outputs": [
    {
     "data": {
      "text/plain": [
       "range(-20, 20)"
      ]
     },
     "execution_count": 8,
     "metadata": {},
     "output_type": "execute_result"
    }
   ],
   "source": [
    "x"
   ]
  },
  {
   "cell_type": "code",
   "execution_count": 6,
   "id": "b63f10b8-4d13-4b61-8500-ca52ce2c6768",
   "metadata": {},
   "outputs": [],
   "source": [
    "# 1. 미분 (정의 이용)\n",
    "def derivative(f, a, h=1e-6):\n",
    "    return (f(a+h) - f(a)) / h"
   ]
  },
  {
   "cell_type": "code",
   "execution_count": 9,
   "id": "a9dde179-d7fc-4037-a644-0b90af24c2ce",
   "metadata": {},
   "outputs": [
    {
     "data": {
      "text/plain": [
       "[-4736000097, -3293211762, -2244806871, -1496529360, -973078605]"
      ]
     },
     "execution_count": 9,
     "metadata": {},
     "output_type": "execute_result"
    }
   ],
   "source": [
    "f_ori2 [:5]"
   ]
  },
  {
   "cell_type": "code",
   "execution_count": 10,
   "id": "51649e53-65ae-47b0-bf69-bab25c784d3e",
   "metadata": {
    "scrolled": true
   },
   "outputs": [
    {
     "ename": "NameError",
     "evalue": "name 'y_hat2' is not defined",
     "output_type": "error",
     "traceback": [
      "\u001b[1;31m---------------------------------------------------------------------------\u001b[0m",
      "\u001b[1;31mNameError\u001b[0m                                 Traceback (most recent call last)",
      "Cell \u001b[1;32mIn[10], line 1\u001b[0m\n\u001b[1;32m----> 1\u001b[0m y_hat2 [:\u001b[38;5;241m5\u001b[39m]\n",
      "\u001b[1;31mNameError\u001b[0m: name 'y_hat2' is not defined"
     ]
    }
   ],
   "source": [
    "y_hat2 [:5]"
   ]
  },
  {
   "cell_type": "code",
   "execution_count": 11,
   "id": "a80e7112-2c3e-4786-a8d2-25712415d647",
   "metadata": {},
   "outputs": [],
   "source": [
    "f_ori2 = [g(i) for i in x]\n",
    "y_hat2 = [derivative(g,i) for i in x]"
   ]
  },
  {
   "cell_type": "code",
   "execution_count": 18,
   "id": "ec70cf3a-c91f-4b05-81fa-766c1ae655b4",
   "metadata": {},
   "outputs": [],
   "source": [
    "f_ori4 = [h2(i) for i in x]\n",
    "y_hat4 = [derivative(h2,i) for i in x]"
   ]
  },
  {
   "cell_type": "code",
   "execution_count": null,
   "id": "fb13e21b-f52c-430b-bf3b-29434f6d27ea",
   "metadata": {},
   "outputs": [],
   "source": [
    "plt.plot(x,y_hat, label='derivative')"
   ]
  },
  {
   "cell_type": "code",
   "execution_count": 13,
   "id": "29e254e8-aaff-4a84-83b8-ff8db0c922a3",
   "metadata": {
    "scrolled": true
   },
   "outputs": [
    {
     "data": {
      "text/plain": [
       "[<matplotlib.lines.Line2D at 0x13617400190>]"
      ]
     },
     "execution_count": 13,
     "metadata": {},
     "output_type": "execute_result"
    },
    {
     "data": {
      "image/png": "[encoded data removed]",
      "text/plain": [
       "<Figure size 640x480 with 1 Axes>"
      ]
     },
     "metadata": {},
     "output_type": "display_data"
    }
   ],
   "source": [
    "plt.plot(x,f_ori2, label='original')\n",
    "plt.plot(x,y_hat2, label='derivative')"
   ]
  },
  {
   "cell_type": "code",
   "execution_count": 16,
   "id": "d8e74d6a-fdde-4bac-bd38-6f8e86da2d81",
   "metadata": {
    "scrolled": true
   },
   "outputs": [
    {
     "data": {
      "text/plain": [
       "[<matplotlib.lines.Line2D at 0x13617443c50>]"
      ]
     },
     "execution_count": 16,
     "metadata": {},
     "output_type": "execute_result"
    },
    {
     "data": {
      "image/png": "[encoded data removed]",
      "text/plain": [
       "<Figure size 640x480 with 1 Axes>"
      ]
     },
     "metadata": {},
     "output_type": "display_data"
    }
   ],
   "source": [
    "plt.plot(x,f_ori3, label='original')\n",
    "plt.plot(x,y_hat3, label='derivative')"
   ]
  },
  {
   "cell_type": "code",
   "execution_count": 21,
   "id": "8db13037-456b-443e-bf1e-84ceb026ddd1",
   "metadata": {
    "scrolled": true
   },
   "outputs": [
    {
     "data": {
      "text/plain": [
       "(-50.0, 50.0)"
      ]
     },
     "execution_count": 21,
     "metadata": {},
     "output_type": "execute_result"
    },
    {
     "data": {
      "image/png": "[encoded data removed]",
      "text/plain": [
       "<Figure size 640x480 with 1 Axes>"
      ]
     },
     "metadata": {},
     "output_type": "display_data"
    }
   ],
   "source": [
    "plt.plot(x,f_ori4, label='original')\n",
    "plt.plot(x,y_hat4, label='derivative')\n",
    "plt.ylim([-50,50])"
   ]
  },
  {
   "cell_type": "code",
   "execution_count": null,
   "id": "46e8b937-cba8-4189-a464-bd7ff049fb0b",
   "metadata": {},
   "outputs": [],
   "source": [
    "plt.plot(x,y)"
   ]
  },
  {
   "cell_type": "code",
   "execution_count": null,
   "id": "896b559c-ab43-4c45-a3c7-f3e5c67e02f7",
   "metadata": {},
   "outputs": [],
   "source": [
    "f2 = lambda x : x**3"
   ]
  },
  {
   "cell_type": "code",
   "execution_count": null,
   "id": "7c0606da-e635-45d0-8fa4-53dafa0f2343",
   "metadata": {},
   "outputs": [],
   "source": [
    "[derivative(f2, i) for i in range(-10,10)]"
   ]
  },
  {
   "cell_type": "code",
   "execution_count": null,
   "id": "ece7f913-0d2a-4888-83cf-5dda76250231",
   "metadata": {},
   "outputs": [],
   "source": [
    "import numpy as np\n",
    "\n",
    "# 함수 정의\n",
    "def f(x):\n",
    "    return 6*x**2 + 7*x + 8\n",
    "\n",
    "\n",
    "\n",
    "# 2. 적분 (리만 합)\n",
    "def riemann_integral(f, a, b, n=10000):\n",
    "    dx = (b - a) / n\n",
    "    x = np.linspace(a, b-dx, n)  # 왼쪽 리만 합\n",
    "    return np.sum(f(x) * dx)\n",
    "\n",
    "# 테스트\n",
    "a_point = 2\n",
    "print(\"미분 (f'(2) 근사) =\", derivative(f, a_point))\n",
    "\n",
    "integral_val = riemann_integral(f, 0, 3, n=10000)\n",
    "print(\"적분 (∫_0^3 f(x) dx 근사) =\", integral_val)\n",
    "\n",
    "# 검증 (정확 해석값)\n",
    "# f'(x) = 12x + 7, f'(2)=31\n",
    "print(\"실제 미분 f'(2) =\", 12*a_point + 7)\n",
    "\n",
    "# ∫_0^3 (6x^2+7x+8) dx = [2x^3 + (7/2)x^2 + 8x]_0^3\n",
    "exact_integral = (2*3**3 + (7/2)*3**2 + 8*3) - 0\n",
    "print(\"실제 적분 =\", exact_integral)"
   ]
  }
 ],
 "metadata": {
  "kernelspec": {
   "display_name": "Python 3 (ipykernel)",
   "language": "python",
   "name": "python3"
  },
  "language_info": {
   "codemirror_mode": {
    "name": "ipython",
    "version": 3
   },
   "file_extension": ".py",
   "mimetype": "text/x-python",
   "name": "python",
   "nbconvert_exporter": "python",
   "pygments_lexer": "ipython3",
   "version": "3.13.5"
  }
 },
 "nbformat": 4,
 "nbformat_minor": 5
}
