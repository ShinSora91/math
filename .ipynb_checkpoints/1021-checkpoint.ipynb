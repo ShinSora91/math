{
 "cells": [
  {
   "cell_type": "code",
   "execution_count": 1,
   "id": "15f0f960-71ef-4264-b586-9573740a906e",
   "metadata": {},
   "outputs": [],
   "source": [
    "import sympy as sp"
   ]
  },
  {
   "cell_type": "code",
   "execution_count": 12,
   "id": "205068d9-c683-48c5-8690-9db683f37f9a",
   "metadata": {},
   "outputs": [
    {
     "data": {
      "text/latex": [
       "$\\displaystyle 4 x^{2} \\left(8 x + 6\\right) e^{- \\cos{\\left(4 x^{2} + 6 x + 9 \\right)}} \\sin{\\left(4 x^{2} + 6 x + 9 \\right)} \\cos{\\left(\\log{\\left(4 x^{2} + 6 x + 9 \\right)} \\right)} - \\frac{4 x^{2} \\left(8 x + 6\\right) e^{- \\cos{\\left(4 x^{2} + 6 x + 9 \\right)}} \\sin{\\left(\\log{\\left(4 x^{2} + 6 x + 9 \\right)} \\right)}}{4 x^{2} + 6 x + 9} + 6 x \\sin{\\left(3 x^{2} \\right)} \\cos{\\left(\\cos{\\left(3 x^{2} \\right)} \\right)} + 8 x e^{- \\cos{\\left(4 x^{2} + 6 x + 9 \\right)}} \\cos{\\left(\\log{\\left(4 x^{2} + 6 x + 9 \\right)} \\right)}$"
      ],
      "text/plain": [
       "4*x**2*(8*x + 6)*exp(-cos(4*x**2 + 6*x + 9))*sin(4*x**2 + 6*x + 9)*cos(log(4*x**2 + 6*x + 9)) - 4*x**2*(8*x + 6)*exp(-cos(4*x**2 + 6*x + 9))*sin(log(4*x**2 + 6*x + 9))/(4*x**2 + 6*x + 9) + 6*x*sin(3*x**2)*cos(cos(3*x**2)) + 8*x*exp(-cos(4*x**2 + 6*x + 9))*cos(log(4*x**2 + 6*x + 9))"
      ]
     },
     "execution_count": 12,
     "metadata": {},
     "output_type": "execute_result"
    }
   ],
   "source": [
    "x =sp.symbols('x')\n",
    "g= 4*x**2 + 6*x +9\n",
    "f= sp.exp(-sp.cos(g))*sp.cos(-sp.log(g))*4*x**2+sp.sin(-sp.cos(3*x**2))\n",
    "df_dx = sp.diff(f,x)\n",
    "df_dx"
   ]
  }
 ],
 "metadata": {
  "kernelspec": {
   "display_name": "Python [conda env:base] *",
   "language": "python",
   "name": "conda-base-py"
  },
  "language_info": {
   "codemirror_mode": {
    "name": "ipython",
    "version": 3
   },
   "file_extension": ".py",
   "mimetype": "text/x-python",
   "name": "python",
   "nbconvert_exporter": "python",
   "pygments_lexer": "ipython3",
   "version": "3.13.5"
  }
 },
 "nbformat": 4,
 "nbformat_minor": 5
}
