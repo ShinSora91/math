{
 "cells": [
  {
   "cell_type": "markdown",
   "id": "f226f2de-84d5-4f1a-931d-79bb5746748c",
   "metadata": {},
   "source": [
    "<img src=\"images/0924/1.PNG\"/>"
   ]
  },
  {
   "cell_type": "code",
   "execution_count": 6,
   "id": "41b1406a-662a-4392-bc50-5adc6b684638",
   "metadata": {},
   "outputs": [],
   "source": [
    "import matplotlib.pyplot as plt"
   ]
  },
  {
   "cell_type": "code",
   "execution_count": 10,
   "id": "57e2e8cb-d0f6-46ae-9e02-402555f99ba6",
   "metadata": {},
   "outputs": [
    {
     "data": {
      "text/plain": [
       "[-20, -19, -18, -17, -16]"
      ]
     },
     "execution_count": 10,
     "metadata": {},
     "output_type": "execute_result"
    }
   ],
   "source": [
    "x = range(-20,20)\n",
    "[i for i in x][:5]"
   ]
  },
  {
   "cell_type": "code",
   "execution_count": 12,
   "id": "31ad45a5-995a-43a9-81da-cdc5085fe207",
   "metadata": {},
   "outputs": [
    {
     "data": {
      "text/plain": [
       "[-40, -38]"
      ]
     },
     "execution_count": 12,
     "metadata": {},
     "output_type": "execute_result"
    }
   ],
   "source": [
    "y = [2*i for i in x]\n",
    "y[:2]"
   ]
  },
  {
   "cell_type": "code",
   "execution_count": 15,
   "id": "58725132-34bb-46a8-ae3a-76960166161b",
   "metadata": {},
   "outputs": [
    {
     "data": {
      "text/plain": [
       "[1205, 1088, 977, 872, 773]"
      ]
     },
     "execution_count": 15,
     "metadata": {},
     "output_type": "execute_result"
    }
   ],
   "source": [
    "y2 = [3*i**2+5 for i in x]\n",
    "y2[:5]"
   ]
  },
  {
   "cell_type": "code",
   "execution_count": 17,
   "id": "5ff17b90-dc41-4130-9e48-05c6bb937fa0",
   "metadata": {},
   "outputs": [],
   "source": [
    "f3 = lambda x:3*x**2+3"
   ]
  },
  {
   "cell_type": "code",
   "execution_count": 21,
   "id": "c6498574-24d4-45f2-b7a2-ac84be1f4b7d",
   "metadata": {},
   "outputs": [],
   "source": [
    "f_ori = [f3(i) for i in x]\n",
    "y_hat = [derivative(f3,i) for i in x]"
   ]
  },
  {
   "cell_type": "code",
   "execution_count": 20,
   "id": "fb13e21b-f52c-430b-bf3b-29434f6d27ea",
   "metadata": {},
   "outputs": [
    {
     "ename": "ValueError",
     "evalue": "x and y must have same first dimension, but have shapes (40,) and (1,)",
     "output_type": "error",
     "traceback": [
      "\u001b[1;31m---------------------------------------------------------------------------\u001b[0m",
      "\u001b[1;31mValueError\u001b[0m                                Traceback (most recent call last)",
      "Cell \u001b[1;32mIn[20], line 2\u001b[0m\n\u001b[0;32m      1\u001b[0m plt\u001b[38;5;241m.\u001b[39mplot(x,y_hat, label\u001b[38;5;241m=\u001b[39m\u001b[38;5;124m'\u001b[39m\u001b[38;5;124mderivative\u001b[39m\u001b[38;5;124m'\u001b[39m)\n\u001b[1;32m----> 2\u001b[0m plt\u001b[38;5;241m.\u001b[39mplot(x, f3, label\u001b[38;5;241m=\u001b[39m\u001b[38;5;124m'\u001b[39m\u001b[38;5;124moriginal function\u001b[39m\u001b[38;5;124m'\u001b[39m)\n",
      "File \u001b[1;32mC:\\ProgramData\\anaconda3\\Lib\\site-packages\\matplotlib\\pyplot.py:3829\u001b[0m, in \u001b[0;36mplot\u001b[1;34m(scalex, scaley, data, *args, **kwargs)\u001b[0m\n\u001b[0;32m   3821\u001b[0m \u001b[38;5;129m@_copy_docstring_and_deprecators\u001b[39m(Axes\u001b[38;5;241m.\u001b[39mplot)\n\u001b[0;32m   3822\u001b[0m \u001b[38;5;28;01mdef\u001b[39;00m\u001b[38;5;250m \u001b[39m\u001b[38;5;21mplot\u001b[39m(\n\u001b[0;32m   3823\u001b[0m     \u001b[38;5;241m*\u001b[39margs: \u001b[38;5;28mfloat\u001b[39m \u001b[38;5;241m|\u001b[39m ArrayLike \u001b[38;5;241m|\u001b[39m \u001b[38;5;28mstr\u001b[39m,\n\u001b[1;32m   (...)\u001b[0m\n\u001b[0;32m   3827\u001b[0m     \u001b[38;5;241m*\u001b[39m\u001b[38;5;241m*\u001b[39mkwargs,\n\u001b[0;32m   3828\u001b[0m ) \u001b[38;5;241m-\u001b[39m\u001b[38;5;241m>\u001b[39m \u001b[38;5;28mlist\u001b[39m[Line2D]:\n\u001b[1;32m-> 3829\u001b[0m     \u001b[38;5;28;01mreturn\u001b[39;00m gca()\u001b[38;5;241m.\u001b[39mplot(\n\u001b[0;32m   3830\u001b[0m         \u001b[38;5;241m*\u001b[39margs,\n\u001b[0;32m   3831\u001b[0m         scalex\u001b[38;5;241m=\u001b[39mscalex,\n\u001b[0;32m   3832\u001b[0m         scaley\u001b[38;5;241m=\u001b[39mscaley,\n\u001b[0;32m   3833\u001b[0m         \u001b[38;5;241m*\u001b[39m\u001b[38;5;241m*\u001b[39m({\u001b[38;5;124m\"\u001b[39m\u001b[38;5;124mdata\u001b[39m\u001b[38;5;124m\"\u001b[39m: data} \u001b[38;5;28;01mif\u001b[39;00m data \u001b[38;5;129;01mis\u001b[39;00m \u001b[38;5;129;01mnot\u001b[39;00m \u001b[38;5;28;01mNone\u001b[39;00m \u001b[38;5;28;01melse\u001b[39;00m {}),\n\u001b[0;32m   3834\u001b[0m         \u001b[38;5;241m*\u001b[39m\u001b[38;5;241m*\u001b[39mkwargs,\n\u001b[0;32m   3835\u001b[0m     )\n",
      "File \u001b[1;32mC:\\ProgramData\\anaconda3\\Lib\\site-packages\\matplotlib\\axes\\_axes.py:1777\u001b[0m, in \u001b[0;36mAxes.plot\u001b[1;34m(self, scalex, scaley, data, *args, **kwargs)\u001b[0m\n\u001b[0;32m   1534\u001b[0m \u001b[38;5;250m\u001b[39m\u001b[38;5;124;03m\"\"\"\u001b[39;00m\n\u001b[0;32m   1535\u001b[0m \u001b[38;5;124;03mPlot y versus x as lines and/or markers.\u001b[39;00m\n\u001b[0;32m   1536\u001b[0m \n\u001b[1;32m   (...)\u001b[0m\n\u001b[0;32m   1774\u001b[0m \u001b[38;5;124;03m(``'green'``) or hex strings (``'#008000'``).\u001b[39;00m\n\u001b[0;32m   1775\u001b[0m \u001b[38;5;124;03m\"\"\"\u001b[39;00m\n\u001b[0;32m   1776\u001b[0m kwargs \u001b[38;5;241m=\u001b[39m cbook\u001b[38;5;241m.\u001b[39mnormalize_kwargs(kwargs, mlines\u001b[38;5;241m.\u001b[39mLine2D)\n\u001b[1;32m-> 1777\u001b[0m lines \u001b[38;5;241m=\u001b[39m [\u001b[38;5;241m*\u001b[39m\u001b[38;5;28mself\u001b[39m\u001b[38;5;241m.\u001b[39m_get_lines(\u001b[38;5;28mself\u001b[39m, \u001b[38;5;241m*\u001b[39margs, data\u001b[38;5;241m=\u001b[39mdata, \u001b[38;5;241m*\u001b[39m\u001b[38;5;241m*\u001b[39mkwargs)]\n\u001b[0;32m   1778\u001b[0m \u001b[38;5;28;01mfor\u001b[39;00m line \u001b[38;5;129;01min\u001b[39;00m lines:\n\u001b[0;32m   1779\u001b[0m     \u001b[38;5;28mself\u001b[39m\u001b[38;5;241m.\u001b[39madd_line(line)\n",
      "File \u001b[1;32mC:\\ProgramData\\anaconda3\\Lib\\site-packages\\matplotlib\\axes\\_base.py:297\u001b[0m, in \u001b[0;36m_process_plot_var_args.__call__\u001b[1;34m(self, axes, data, return_kwargs, *args, **kwargs)\u001b[0m\n\u001b[0;32m    295\u001b[0m     this \u001b[38;5;241m+\u001b[39m\u001b[38;5;241m=\u001b[39m args[\u001b[38;5;241m0\u001b[39m],\n\u001b[0;32m    296\u001b[0m     args \u001b[38;5;241m=\u001b[39m args[\u001b[38;5;241m1\u001b[39m:]\n\u001b[1;32m--> 297\u001b[0m \u001b[38;5;28;01myield from\u001b[39;00m \u001b[38;5;28mself\u001b[39m\u001b[38;5;241m.\u001b[39m_plot_args(\n\u001b[0;32m    298\u001b[0m     axes, this, kwargs, ambiguous_fmt_datakey\u001b[38;5;241m=\u001b[39mambiguous_fmt_datakey,\n\u001b[0;32m    299\u001b[0m     return_kwargs\u001b[38;5;241m=\u001b[39mreturn_kwargs\n\u001b[0;32m    300\u001b[0m )\n",
      "File \u001b[1;32mC:\\ProgramData\\anaconda3\\Lib\\site-packages\\matplotlib\\axes\\_base.py:494\u001b[0m, in \u001b[0;36m_process_plot_var_args._plot_args\u001b[1;34m(self, axes, tup, kwargs, return_kwargs, ambiguous_fmt_datakey)\u001b[0m\n\u001b[0;32m    491\u001b[0m     axes\u001b[38;5;241m.\u001b[39myaxis\u001b[38;5;241m.\u001b[39mupdate_units(y)\n\u001b[0;32m    493\u001b[0m \u001b[38;5;28;01mif\u001b[39;00m x\u001b[38;5;241m.\u001b[39mshape[\u001b[38;5;241m0\u001b[39m] \u001b[38;5;241m!=\u001b[39m y\u001b[38;5;241m.\u001b[39mshape[\u001b[38;5;241m0\u001b[39m]:\n\u001b[1;32m--> 494\u001b[0m     \u001b[38;5;28;01mraise\u001b[39;00m \u001b[38;5;167;01mValueError\u001b[39;00m(\u001b[38;5;124mf\u001b[39m\u001b[38;5;124m\"\u001b[39m\u001b[38;5;124mx and y must have same first dimension, but \u001b[39m\u001b[38;5;124m\"\u001b[39m\n\u001b[0;32m    495\u001b[0m                      \u001b[38;5;124mf\u001b[39m\u001b[38;5;124m\"\u001b[39m\u001b[38;5;124mhave shapes \u001b[39m\u001b[38;5;132;01m{\u001b[39;00mx\u001b[38;5;241m.\u001b[39mshape\u001b[38;5;132;01m}\u001b[39;00m\u001b[38;5;124m and \u001b[39m\u001b[38;5;132;01m{\u001b[39;00my\u001b[38;5;241m.\u001b[39mshape\u001b[38;5;132;01m}\u001b[39;00m\u001b[38;5;124m\"\u001b[39m)\n\u001b[0;32m    496\u001b[0m \u001b[38;5;28;01mif\u001b[39;00m x\u001b[38;5;241m.\u001b[39mndim \u001b[38;5;241m>\u001b[39m \u001b[38;5;241m2\u001b[39m \u001b[38;5;129;01mor\u001b[39;00m y\u001b[38;5;241m.\u001b[39mndim \u001b[38;5;241m>\u001b[39m \u001b[38;5;241m2\u001b[39m:\n\u001b[0;32m    497\u001b[0m     \u001b[38;5;28;01mraise\u001b[39;00m \u001b[38;5;167;01mValueError\u001b[39;00m(\u001b[38;5;124mf\u001b[39m\u001b[38;5;124m\"\u001b[39m\u001b[38;5;124mx and y can be no greater than 2D, but have \u001b[39m\u001b[38;5;124m\"\u001b[39m\n\u001b[0;32m    498\u001b[0m                      \u001b[38;5;124mf\u001b[39m\u001b[38;5;124m\"\u001b[39m\u001b[38;5;124mshapes \u001b[39m\u001b[38;5;132;01m{\u001b[39;00mx\u001b[38;5;241m.\u001b[39mshape\u001b[38;5;132;01m}\u001b[39;00m\u001b[38;5;124m and \u001b[39m\u001b[38;5;132;01m{\u001b[39;00my\u001b[38;5;241m.\u001b[39mshape\u001b[38;5;132;01m}\u001b[39;00m\u001b[38;5;124m\"\u001b[39m)\n",
      "\u001b[1;31mValueError\u001b[0m: x and y must have same first dimension, but have shapes (40,) and (1,)"
     ]
    },
    {
     "data": {
      "image/png": "[encoded data removed]",
      "text/plain": [
       "<Figure size 640x480 with 1 Axes>"
      ]
     },
     "metadata": {},
     "output_type": "display_data"
    }
   ],
   "source": [
    "plt.plot(x,y_hat, label='derivative')\n",
    "plt.plot(x, f_ori, label='original function')"
   ]
  },
  {
   "cell_type": "code",
   "execution_count": 13,
   "id": "46e8b937-cba8-4189-a464-bd7ff049fb0b",
   "metadata": {},
   "outputs": [
    {
     "data": {
      "text/plain": [
       "[<matplotlib.lines.Line2D at 0x290ef115e50>]"
      ]
     },
     "execution_count": 13,
     "metadata": {},
     "output_type": "execute_result"
    },
    {
     "data": {
      "image/png": "[encoded data removed]",
      "text/plain": [
       "<Figure size 640x480 with 1 Axes>"
      ]
     },
     "metadata": {},
     "output_type": "display_data"
    }
   ],
   "source": [
    "plt.plot(x,y)"
   ]
  },
  {
   "cell_type": "code",
   "execution_count": 2,
   "id": "b63f10b8-4d13-4b61-8500-ca52ce2c6768",
   "metadata": {},
   "outputs": [],
   "source": [
    "# 1. 미분 (정의 이용)\n",
    "def derivative(f, a, h=1e-6):\n",
    "    return (f(a+h) - f(a)) / h"
   ]
  },
  {
   "cell_type": "code",
   "execution_count": 3,
   "id": "896b559c-ab43-4c45-a3c7-f3e5c67e02f7",
   "metadata": {},
   "outputs": [],
   "source": [
    "f2 = lambda x : x**3"
   ]
  },
  {
   "cell_type": "code",
   "execution_count": 5,
   "id": "7c0606da-e635-45d0-8fa4-53dafa0f2343",
   "metadata": {},
   "outputs": [
    {
     "data": {
      "text/plain": [
       "[299.99996979768184,\n",
       " 242.99997278376395,\n",
       " 191.9999760389146,\n",
       " 146.99997899469963,\n",
       " 107.99998202060124,\n",
       " 74.99998501714344,\n",
       " 47.999988005642535,\n",
       " 26.99999100386208,\n",
       " 11.999993999367575,\n",
       " 2.99999700004161,\n",
       " 1e-12,\n",
       " 3.0000029997978572,\n",
       " 12.000006002210739,\n",
       " 27.00000900546229,\n",
       " 48.00001200067072,\n",
       " 75.00001501625775,\n",
       " 108.00001800248538,\n",
       " 147.00002100198617,\n",
       " 192.00002384422987,\n",
       " 243.00002678501187]"
      ]
     },
     "execution_count": 5,
     "metadata": {},
     "output_type": "execute_result"
    }
   ],
   "source": [
    "[derivative(f2, i) for i in range(-10,10)]"
   ]
  },
  {
   "cell_type": "code",
   "execution_count": 1,
   "id": "ece7f913-0d2a-4888-83cf-5dda76250231",
   "metadata": {},
   "outputs": [
    {
     "name": "stdout",
     "output_type": "stream",
     "text": [
      "미분 (f'(2) 근사) = 31.000006003978342\n",
      "적분 (∫_0^3 f(x) dx 근사) = 109.48875027\n",
      "실제 미분 f'(2) = 31\n",
      "실제 적분 = 109.5\n"
     ]
    }
   ],
   "source": [
    "import numpy as np\n",
    "\n",
    "# 함수 정의\n",
    "def f(x):\n",
    "    return 6*x**2 + 7*x + 8\n",
    "\n",
    "\n",
    "\n",
    "# 2. 적분 (리만 합)\n",
    "def riemann_integral(f, a, b, n=10000):\n",
    "    dx = (b - a) / n\n",
    "    x = np.linspace(a, b-dx, n)  # 왼쪽 리만 합\n",
    "    return np.sum(f(x) * dx)\n",
    "\n",
    "# 테스트\n",
    "a_point = 2\n",
    "print(\"미분 (f'(2) 근사) =\", derivative(f, a_point))\n",
    "\n",
    "integral_val = riemann_integral(f, 0, 3, n=10000)\n",
    "print(\"적분 (∫_0^3 f(x) dx 근사) =\", integral_val)\n",
    "\n",
    "# 검증 (정확 해석값)\n",
    "# f'(x) = 12x + 7, f'(2)=31\n",
    "print(\"실제 미분 f'(2) =\", 12*a_point + 7)\n",
    "\n",
    "# ∫_0^3 (6x^2+7x+8) dx = [2x^3 + (7/2)x^2 + 8x]_0^3\n",
    "exact_integral = (2*3**3 + (7/2)*3**2 + 8*3) - 0\n",
    "print(\"실제 적분 =\", exact_integral)"
   ]
  }
 ],
 "metadata": {
  "kernelspec": {
   "display_name": "Python 3 (ipykernel)",
   "language": "python",
   "name": "python3"
  },
  "language_info": {
   "codemirror_mode": {
    "name": "ipython",
    "version": 3
   },
   "file_extension": ".py",
   "mimetype": "text/x-python",
   "name": "python",
   "nbconvert_exporter": "python",
   "pygments_lexer": "ipython3",
   "version": "3.13.5"
  }
 },
 "nbformat": 4,
 "nbformat_minor": 5
}
