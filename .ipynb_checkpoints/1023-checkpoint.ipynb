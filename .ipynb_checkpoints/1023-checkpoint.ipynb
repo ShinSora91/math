{
 "cells": [
  {
   "cell_type": "code",
   "execution_count": null,
   "id": "768e6839-45e2-47e5-91cd-2ddcab9acd85",
   "metadata": {},
   "outputs": [],
   "source": [
    "def f(i):\n",
    "    sum1 = 0\n",
    "    z = i[0]\n",
    "    for j in z['a']:\n",
    "        sum1 += j\n",
    "    return sum1"
   ]
  },
  {
   "cell_type": "code",
   "execution_count": null,
   "id": "eed37782-e354-405d-ac74-3a38f307d20d",
   "metadata": {},
   "outputs": [],
   "source": [
    "def f2(i):\n",
    "    sum1 = 0\n",
    "    for j in i:\n",
    "        for k in j[\"a\"]:\n",
    "            sum1 += k\n",
    "    return sum1"
   ]
  },
  {
   "cell_type": "code",
   "execution_count": null,
   "id": "d47f68d1-4746-4e67-ab67-5f672a128439",
   "metadata": {},
   "outputs": [],
   "source": [
    "f([ { \"a\" : [11,22,33,44,55] } ] )"
   ]
  },
  {
   "cell_type": "code",
   "execution_count": null,
   "id": "324d4ba2-eadc-4471-983a-dbef640616db",
   "metadata": {},
   "outputs": [],
   "source": [
    "f2([{\"a\":[11,22,33,44,55]},{\"a\":[111,212,313,414,515] },{\"a\":[121,222,323,424,525] }])"
   ]
  },
  {
   "cell_type": "code",
   "execution_count": null,
   "id": "6e4ca855-9704-4a41-958e-6faaf430b187",
   "metadata": {},
   "outputs": [],
   "source": [
    "data = (map( lambda x: x['a'] , res))"
   ]
  },
  {
   "cell_type": "code",
   "execution_count": 2,
   "id": "52d609c9-e1f2-41d2-8ee3-3305cc004e67",
   "metadata": {},
   "outputs": [
    {
     "name": "stdout",
     "output_type": "stream",
     "text": [
      "[[11, 22, 33, 44, 55], [111, 212, 313, 414, 515], [121, 222, 323, 424, 525]]\n",
      "a [11, 22, 33, 44, 55]\n",
      "b [111, 212, 313, 414, 515]\n",
      "c [121, 222, 323, 424, 525]\n"
     ]
    },
    {
     "data": {
      "text/plain": [
       "{'a': 165, 'b': 1565, 'c': 1615}"
      ]
     },
     "execution_count": 2,
     "metadata": {},
     "output_type": "execute_result"
    }
   ],
   "source": [
    "res= [{\"a\":[11,22,33,44,55]},{\"a\":[111,212,313,414,515]},{\"a\":[121,222,323,424,525] }]\n",
    "\n",
    "obj={\"a\":0,\"b\":0,\"c\":0}\n",
    "\n",
    "data =list(map( lambda x: x['a'] ,res))\n",
    "print(data)\n",
    "\n",
    "for key, arr in zip(obj.keys(), data):\n",
    "    print(key, arr)\n",
    "    for i in arr:\n",
    "        obj[key] += i\n",
    "obj"
   ]
  }
 ],
 "metadata": {
  "kernelspec": {
   "display_name": "Python [conda env:base] *",
   "language": "python",
   "name": "conda-base-py"
  },
  "language_info": {
   "codemirror_mode": {
    "name": "ipython",
    "version": 3
   },
   "file_extension": ".py",
   "mimetype": "text/x-python",
   "name": "python",
   "nbconvert_exporter": "python",
   "pygments_lexer": "ipython3",
   "version": "3.13.5"
  }
 },
 "nbformat": 4,
 "nbformat_minor": 5
}
