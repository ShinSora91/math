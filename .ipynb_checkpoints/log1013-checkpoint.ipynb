{
 "cells": [
  {
   "cell_type": "markdown",
   "id": "1437c5e9-fd00-401e-867c-1c2b81a27894",
   "metadata": {},
   "source": [
    "$ log(ab) = log (a) + log(b) $ <br>\n",
    "$ log(abc) = log (a) + log(b) + log(c) $ <br>\n",
    "$ \\ log_a b = \\frac {log_c{a}}{log_c{b}} $"
   ]
  },
  {
   "cell_type": "code",
   "execution_count": 1,
   "id": "aa551d42-0478-46f8-a0b5-5823b6285c8d",
   "metadata": {},
   "outputs": [],
   "source": [
    "import numpy as np"
   ]
  },
  {
   "cell_type": "code",
   "execution_count": 5,
   "id": "ed8f64f1-b8d4-4214-93be-893782c4acb0",
   "metadata": {},
   "outputs": [
    {
     "data": {
      "text/plain": [
       "np.True_"
      ]
     },
     "execution_count": 5,
     "metadata": {},
     "output_type": "execute_result"
    }
   ],
   "source": [
    "np.log10(100) - (np.log10(10) + np.log10(10)) < 0.001"
   ]
  },
  {
   "cell_type": "code",
   "execution_count": 7,
   "id": "085c9420-f178-4950-b231-ba7d49fdac86",
   "metadata": {},
   "outputs": [
    {
     "data": {
      "text/plain": [
       "np.True_"
      ]
     },
     "execution_count": 7,
     "metadata": {},
     "output_type": "execute_result"
    }
   ],
   "source": [
    "np.log10(1000) - (np.log10(10) + np.log10(10) + np.log10(10)) < 0.001"
   ]
  },
  {
   "cell_type": "code",
   "execution_count": 10,
   "id": "7c596039-ac3d-4312-b8e1-f3023212d420",
   "metadata": {},
   "outputs": [
    {
     "data": {
      "text/plain": [
       "np.True_"
      ]
     },
     "execution_count": 10,
     "metadata": {},
     "output_type": "execute_result"
    }
   ],
   "source": [
    "np.log2(6) - (np.log2(2) + np.log2(3)) < 0.001"
   ]
  },
  {
   "cell_type": "code",
   "execution_count": 24,
   "id": "3a26b4dd-b0de-4cf8-ade5-5cc3aae29dfc",
   "metadata": {},
   "outputs": [
    {
     "data": {
      "text/plain": [
       "np.True_"
      ]
     },
     "execution_count": 24,
     "metadata": {},
     "output_type": "execute_result"
    }
   ],
   "source": [
    "np.log2(3) - (np.log10(3)/np.log10(2))<0.001"
   ]
  },
  {
   "cell_type": "markdown",
   "id": "d9afe644-819b-4d57-b4b8-a3b454e2e387",
   "metadata": {},
   "source": [
    "$ \\log_4(\\frac{1}{4}) $"
   ]
  },
  {
   "cell_type": "code",
   "execution_count": 24,
   "id": "2b345109-a4b0-48de-802e-e45d92a87bc4",
   "metadata": {},
   "outputs": [
    {
     "name": "stdout",
     "output_type": "stream",
     "text": [
      "False\n",
      "True\n",
      "True\n",
      "True\n",
      "True\n",
      "True\n",
      "True\n",
      "True\n",
      "True\n",
      "False\n",
      "True\n",
      "True\n",
      "True\n",
      "True\n",
      "True\n",
      "True\n",
      "True\n",
      "True\n",
      "False\n",
      "True\n",
      "True\n",
      "True\n",
      "True\n",
      "True\n",
      "True\n",
      "True\n",
      "True\n"
     ]
    },
    {
     "name": "stderr",
     "output_type": "stream",
     "text": [
      "C:\\Users\\Administrator\\AppData\\Local\\Temp\\ipykernel_9520\\3965884742.py:3: RuntimeWarning: invalid value encountered in scalar divide\n",
      "  print(-1 - (j(i))/(j(1/i)) < 0.01)\n"
     ]
    }
   ],
   "source": [
    "for j in [np.log, np.log10, np.log2] :\n",
    "    for i in range(1, 10) :\n",
    "        u = - (j(i))/(j(1/i))\n",
    "        print(u)\n",
    "        # print(-1  < 0.01)"
   ]
  }
 ],
 "metadata": {
  "kernelspec": {
   "display_name": "Python [conda env:base] *",
   "language": "python",
   "name": "conda-base-py"
  },
  "language_info": {
   "codemirror_mode": {
    "name": "ipython",
    "version": 3
   },
   "file_extension": ".py",
   "mimetype": "text/x-python",
   "name": "python",
   "nbconvert_exporter": "python",
   "pygments_lexer": "ipython3",
   "version": "3.13.5"
  }
 },
 "nbformat": 4,
 "nbformat_minor": 5
}
